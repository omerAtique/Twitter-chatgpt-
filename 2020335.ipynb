{
 "cells": [
  {
   "cell_type": "markdown",
   "id": "74aa7bfe-708d-49ba-86b0-acd7bf967014",
   "metadata": {
    "_cell_guid": "b1076dfc-b9ad-4769-8c92-a6c4dae69d19",
    "_uuid": "8f2839f25d086af736a60e9eeb907d3b93b6e0e5",
    "papermill": {
     "duration": 0.044314,
     "end_time": "2023-05-05T04:40:38.649872",
     "exception": false,
     "start_time": "2023-05-05T04:40:38.605558",
     "status": "completed"
    },
    "tags": []
   },
   "source": [
    "# 2020335\n",
    "# Muhammad Omer Bin Atique\n",
    "# Task 1"
   ]
  },
  {
   "cell_type": "code",
   "execution_count": 1,
   "id": "59ca95c5-8649-4e9d-9b73-446e169f7f8d",
   "metadata": {
    "_cell_guid": "b1076dfc-b9ad-4769-8c92-a6c4dae69d19",
    "_uuid": "8f2839f25d086af736a60e9eeb907d3b93b6e0e5",
    "papermill": {
     "duration": 0.044314,
     "end_time": "2023-05-05T04:40:38.649872",
     "exception": false,
     "start_time": "2023-05-05T04:40:38.605558",
     "status": "completed"
    },
    "tags": []
   },
   "outputs": [],
   "source": [
    "# This Python 3 environment comes with many helpful analytics libraries installed\n",
    "# It is defined by the kaggle/python Docker image: https://github.com/kaggle/docker-python\n",
    "# For example, here's several helpful packages to load\n",
    "\n",
    "import numpy as np # linear algebra\n",
    "import pandas as pd # data processing, CSV file I/O (e.g. pd.read_csv)\n",
    "\n",
    "# Input data files are available in the read-only \"../input/\" directory\n",
    "# For example, running this (by clicking run or pressing Shift+Enter) will list all files under the input directory\n",
    "\n",
    "import os\n",
    "for dirname, _, filenames in os.walk('/kaggle/input'):\n",
    "    for filename in filenames:\n",
    "        print(os.path.join(dirname, filename))\n",
    "\n",
    "# You can write up to 20GB to the current directory (/kaggle/working/) that gets preserved as output when you create a version using \"Save & Run All\" \n",
    "# You can also write temporary files to /kaggle/temp/, but they won't be saved outside of the current session"
   ]
  },
  {
   "cell_type": "code",
   "execution_count": 2,
   "id": "47060f41",
   "metadata": {
    "papermill": {
     "duration": 1.971424,
     "end_time": "2023-05-05T04:40:40.637384",
     "exception": false,
     "start_time": "2023-05-05T04:40:38.665960",
     "status": "completed"
    },
    "tags": []
   },
   "outputs": [],
   "source": [
    "# importing important libraries\n",
    "import seaborn as sns\n",
    "import matplotlib.pyplot as plt\n",
    "import re\n",
    "import time\n",
    "import string\n",
    "import warnings\n",
    "# for showing all the plots inline\n",
    "%matplotlib inline \n",
    "# importing NLP libraries\n",
    "\n",
    "import nltk\n",
    "from nltk.corpus import stopwords\n",
    "from nltk.tokenize import sent_tokenize, word_tokenize\n",
    "from nltk.sentiment.vader import SentimentIntensityAnalyzer\n",
    "from nltk.stem import WordNetLemmatizer\n",
    "from nltk.stem.porter import *\n",
    "from nltk.classify import NaiveBayesClassifier\n",
    "from sklearn.decomposition import LatentDirichletAllocation\n",
    "from textblob import TextBlob\n",
    "from wordcloud import WordCloud, STOPWORDS\n",
    "\n",
    "from collections import Counter\n"
   ]
  },
  {
   "cell_type": "code",
   "execution_count": 3,
   "id": "3f6c4973",
   "metadata": {
    "papermill": {
     "duration": 1.294637,
     "end_time": "2023-05-05T04:40:41.947548",
     "exception": false,
     "start_time": "2023-05-05T04:40:40.652911",
     "status": "completed"
    },
    "tags": []
   },
   "outputs": [],
   "source": [
    "df= pd.read_csv(\"chatgpt1.csv\")"
   ]
  },
  {
   "cell_type": "code",
   "execution_count": 4,
   "id": "a95f9959",
   "metadata": {
    "papermill": {
     "duration": 0.055211,
     "end_time": "2023-05-05T04:40:42.064595",
     "exception": false,
     "start_time": "2023-05-05T04:40:42.009384",
     "status": "completed"
    },
    "tags": []
   },
   "outputs": [
    {
     "data": {
      "text/html": [
       "<div>\n",
       "<style scoped>\n",
       "    .dataframe tbody tr th:only-of-type {\n",
       "        vertical-align: middle;\n",
       "    }\n",
       "\n",
       "    .dataframe tbody tr th {\n",
       "        vertical-align: top;\n",
       "    }\n",
       "\n",
       "    .dataframe thead th {\n",
       "        text-align: right;\n",
       "    }\n",
       "</style>\n",
       "<table border=\"1\" class=\"dataframe\">\n",
       "  <thead>\n",
       "    <tr style=\"text-align: right;\">\n",
       "      <th></th>\n",
       "      <th>Datetime</th>\n",
       "      <th>Tweet Id</th>\n",
       "      <th>Text</th>\n",
       "      <th>Username</th>\n",
       "      <th>Permalink</th>\n",
       "      <th>User</th>\n",
       "      <th>Outlinks</th>\n",
       "      <th>CountLinks</th>\n",
       "      <th>ReplyCount</th>\n",
       "      <th>RetweetCount</th>\n",
       "      <th>LikeCount</th>\n",
       "      <th>QuoteCount</th>\n",
       "      <th>ConversationId</th>\n",
       "      <th>Language</th>\n",
       "      <th>Source</th>\n",
       "      <th>Media</th>\n",
       "      <th>QuotedTweet</th>\n",
       "      <th>MentionedUsers</th>\n",
       "      <th>hashtag</th>\n",
       "      <th>hastag_counts</th>\n",
       "    </tr>\n",
       "  </thead>\n",
       "  <tbody>\n",
       "    <tr>\n",
       "      <th>0</th>\n",
       "      <td>2023-01-22 13:44:34+00:00</td>\n",
       "      <td>1617156270871699456</td>\n",
       "      <td>ChatGPTで遊ぶの忘れてた！！\\n書類作るコード書いてみてほしいのと、\\nどこまで思考整...</td>\n",
       "      <td>mochico0123</td>\n",
       "      <td>https://twitter.com/mochico0123/status/1617156...</td>\n",
       "      <td>https://twitter.com/mochico0123</td>\n",
       "      <td>NaN</td>\n",
       "      <td>NaN</td>\n",
       "      <td>1</td>\n",
       "      <td>0</td>\n",
       "      <td>5</td>\n",
       "      <td>0</td>\n",
       "      <td>1617156270871699456</td>\n",
       "      <td>ja</td>\n",
       "      <td>&lt;a href=\"http://twitter.com/download/iphone\" r...</td>\n",
       "      <td>NaN</td>\n",
       "      <td>NaN</td>\n",
       "      <td>NaN</td>\n",
       "      <td>[]</td>\n",
       "      <td>0</td>\n",
       "    </tr>\n",
       "    <tr>\n",
       "      <th>1</th>\n",
       "      <td>2023-01-22 13:44:39+00:00</td>\n",
       "      <td>1617156291046133761</td>\n",
       "      <td>@AlexandrovnaIng Prohibition of ChatGPT has be...</td>\n",
       "      <td>Caput_LupinumSG</td>\n",
       "      <td>https://twitter.com/Caput_LupinumSG/status/161...</td>\n",
       "      <td>https://twitter.com/Caput_LupinumSG</td>\n",
       "      <td>NaN</td>\n",
       "      <td>NaN</td>\n",
       "      <td>1</td>\n",
       "      <td>0</td>\n",
       "      <td>5</td>\n",
       "      <td>0</td>\n",
       "      <td>1617148639993806848</td>\n",
       "      <td>en</td>\n",
       "      <td>&lt;a href=\"http://twitter.com/download/iphone\" r...</td>\n",
       "      <td>NaN</td>\n",
       "      <td>NaN</td>\n",
       "      <td>[User(username='AlexandrovnaIng', id=282705900...</td>\n",
       "      <td>[]</td>\n",
       "      <td>0</td>\n",
       "    </tr>\n",
       "    <tr>\n",
       "      <th>2</th>\n",
       "      <td>2023-01-22 13:44:44+00:00</td>\n",
       "      <td>1617156308926349312</td>\n",
       "      <td>Schaut Euch an, was @fobizz @DianaKnodel alles...</td>\n",
       "      <td>ciffi</td>\n",
       "      <td>https://twitter.com/ciffi/status/1617156308926...</td>\n",
       "      <td>https://twitter.com/ciffi</td>\n",
       "      <td>['https://us02web.zoom.us/webinar/register/801...</td>\n",
       "      <td>['https://t.co/DsoeVJrPBp', 'https://t.co/HflT...</td>\n",
       "      <td>0</td>\n",
       "      <td>0</td>\n",
       "      <td>4</td>\n",
       "      <td>0</td>\n",
       "      <td>1617156308926349312</td>\n",
       "      <td>de</td>\n",
       "      <td>&lt;a href=\"http://twitter.com/#!/download/ipad\" ...</td>\n",
       "      <td>[Photo(previewUrl='https://pbs.twimg.com/media...</td>\n",
       "      <td>https://twitter.com/DianaKnodel/status/1617153...</td>\n",
       "      <td>[User(username='fobizz', id=884708145792253952...</td>\n",
       "      <td>['#ChatGPT']</td>\n",
       "      <td>1</td>\n",
       "    </tr>\n",
       "    <tr>\n",
       "      <th>3</th>\n",
       "      <td>2023-01-22 13:44:49+00:00</td>\n",
       "      <td>1617156332297256961</td>\n",
       "      <td>Bow down to chatGPT 🫡..... https://t.co/ENTSzi...</td>\n",
       "      <td>Vishwasrisiri</td>\n",
       "      <td>https://twitter.com/Vishwasrisiri/status/16171...</td>\n",
       "      <td>https://twitter.com/Vishwasrisiri</td>\n",
       "      <td>['https://twitter.com/agadmator/status/1617155...</td>\n",
       "      <td>['https://t.co/ENTSzi2AQ9']</td>\n",
       "      <td>0</td>\n",
       "      <td>0</td>\n",
       "      <td>2</td>\n",
       "      <td>0</td>\n",
       "      <td>1617156332297256961</td>\n",
       "      <td>en</td>\n",
       "      <td>&lt;a href=\"http://twitter.com/download/android\" ...</td>\n",
       "      <td>NaN</td>\n",
       "      <td>https://twitter.com/agadmator/status/161715501...</td>\n",
       "      <td>NaN</td>\n",
       "      <td>[]</td>\n",
       "      <td>0</td>\n",
       "    </tr>\n",
       "    <tr>\n",
       "      <th>4</th>\n",
       "      <td>2023-01-22 13:44:52+00:00</td>\n",
       "      <td>1617156345064570880</td>\n",
       "      <td>Profilinde vatan, Türkiye falan yazan bireyler...</td>\n",
       "      <td>0xGenetikciniz</td>\n",
       "      <td>https://twitter.com/0xGenetikciniz/status/1617...</td>\n",
       "      <td>https://twitter.com/0xGenetikciniz</td>\n",
       "      <td>NaN</td>\n",
       "      <td>NaN</td>\n",
       "      <td>0</td>\n",
       "      <td>0</td>\n",
       "      <td>4</td>\n",
       "      <td>0</td>\n",
       "      <td>1617156345064570880</td>\n",
       "      <td>tr</td>\n",
       "      <td>&lt;a href=\"http://twitter.com/download/iphone\" r...</td>\n",
       "      <td>NaN</td>\n",
       "      <td>NaN</td>\n",
       "      <td>NaN</td>\n",
       "      <td>[]</td>\n",
       "      <td>0</td>\n",
       "    </tr>\n",
       "  </tbody>\n",
       "</table>\n",
       "</div>"
      ],
      "text/plain": [
       "                    Datetime             Tweet Id  \\\n",
       "0  2023-01-22 13:44:34+00:00  1617156270871699456   \n",
       "1  2023-01-22 13:44:39+00:00  1617156291046133761   \n",
       "2  2023-01-22 13:44:44+00:00  1617156308926349312   \n",
       "3  2023-01-22 13:44:49+00:00  1617156332297256961   \n",
       "4  2023-01-22 13:44:52+00:00  1617156345064570880   \n",
       "\n",
       "                                                Text         Username  \\\n",
       "0  ChatGPTで遊ぶの忘れてた！！\\n書類作るコード書いてみてほしいのと、\\nどこまで思考整...      mochico0123   \n",
       "1  @AlexandrovnaIng Prohibition of ChatGPT has be...  Caput_LupinumSG   \n",
       "2  Schaut Euch an, was @fobizz @DianaKnodel alles...            ciffi   \n",
       "3  Bow down to chatGPT 🫡..... https://t.co/ENTSzi...    Vishwasrisiri   \n",
       "4  Profilinde vatan, Türkiye falan yazan bireyler...   0xGenetikciniz   \n",
       "\n",
       "                                           Permalink  \\\n",
       "0  https://twitter.com/mochico0123/status/1617156...   \n",
       "1  https://twitter.com/Caput_LupinumSG/status/161...   \n",
       "2  https://twitter.com/ciffi/status/1617156308926...   \n",
       "3  https://twitter.com/Vishwasrisiri/status/16171...   \n",
       "4  https://twitter.com/0xGenetikciniz/status/1617...   \n",
       "\n",
       "                                  User  \\\n",
       "0      https://twitter.com/mochico0123   \n",
       "1  https://twitter.com/Caput_LupinumSG   \n",
       "2            https://twitter.com/ciffi   \n",
       "3    https://twitter.com/Vishwasrisiri   \n",
       "4   https://twitter.com/0xGenetikciniz   \n",
       "\n",
       "                                            Outlinks  \\\n",
       "0                                                NaN   \n",
       "1                                                NaN   \n",
       "2  ['https://us02web.zoom.us/webinar/register/801...   \n",
       "3  ['https://twitter.com/agadmator/status/1617155...   \n",
       "4                                                NaN   \n",
       "\n",
       "                                          CountLinks  ReplyCount  \\\n",
       "0                                                NaN           1   \n",
       "1                                                NaN           1   \n",
       "2  ['https://t.co/DsoeVJrPBp', 'https://t.co/HflT...           0   \n",
       "3                        ['https://t.co/ENTSzi2AQ9']           0   \n",
       "4                                                NaN           0   \n",
       "\n",
       "   RetweetCount  LikeCount  QuoteCount       ConversationId Language  \\\n",
       "0             0          5           0  1617156270871699456       ja   \n",
       "1             0          5           0  1617148639993806848       en   \n",
       "2             0          4           0  1617156308926349312       de   \n",
       "3             0          2           0  1617156332297256961       en   \n",
       "4             0          4           0  1617156345064570880       tr   \n",
       "\n",
       "                                              Source  \\\n",
       "0  <a href=\"http://twitter.com/download/iphone\" r...   \n",
       "1  <a href=\"http://twitter.com/download/iphone\" r...   \n",
       "2  <a href=\"http://twitter.com/#!/download/ipad\" ...   \n",
       "3  <a href=\"http://twitter.com/download/android\" ...   \n",
       "4  <a href=\"http://twitter.com/download/iphone\" r...   \n",
       "\n",
       "                                               Media  \\\n",
       "0                                                NaN   \n",
       "1                                                NaN   \n",
       "2  [Photo(previewUrl='https://pbs.twimg.com/media...   \n",
       "3                                                NaN   \n",
       "4                                                NaN   \n",
       "\n",
       "                                         QuotedTweet  \\\n",
       "0                                                NaN   \n",
       "1                                                NaN   \n",
       "2  https://twitter.com/DianaKnodel/status/1617153...   \n",
       "3  https://twitter.com/agadmator/status/161715501...   \n",
       "4                                                NaN   \n",
       "\n",
       "                                      MentionedUsers       hashtag  \\\n",
       "0                                                NaN            []   \n",
       "1  [User(username='AlexandrovnaIng', id=282705900...            []   \n",
       "2  [User(username='fobizz', id=884708145792253952...  ['#ChatGPT']   \n",
       "3                                                NaN            []   \n",
       "4                                                NaN            []   \n",
       "\n",
       "   hastag_counts  \n",
       "0              0  \n",
       "1              0  \n",
       "2              1  \n",
       "3              0  \n",
       "4              0  "
      ]
     },
     "execution_count": 4,
     "metadata": {},
     "output_type": "execute_result"
    }
   ],
   "source": [
    "df.head(5)"
   ]
  },
  {
   "cell_type": "code",
   "execution_count": 5,
   "id": "7d1a81ac-610d-4b0d-996f-b97b58ed3281",
   "metadata": {
    "papermill": {
     "duration": 0.031857,
     "end_time": "2023-05-05T04:40:42.907059",
     "exception": false,
     "start_time": "2023-05-05T04:40:42.875202",
     "status": "completed"
    },
    "tags": []
   },
   "outputs": [
    {
     "name": "stderr",
     "output_type": "stream",
     "text": [
      "/var/folders/h9/5rbmcw493f30vqzlns2tt0sc0000gn/T/ipykernel_4201/3254095243.py:4: FutureWarning: The default value of regex will change from True to False in a future version.\n",
      "  ds['Text'] = ds['Text'].str.replace('[^\\w\\s]', ' ')\n"
     ]
    }
   ],
   "source": [
    "ds = df[['Text', 'Username']]\n",
    "ds = ds.dropna()\n",
    "ds['Text'] = ds['Text'].str.lower()\n",
    "ds['Text'] = ds['Text'].str.replace('[^\\w\\s]', ' ') "
   ]
  },
  {
   "cell_type": "code",
   "execution_count": 6,
   "id": "80a1e562-ef25-4795-9976-e2a8c808c521",
   "metadata": {
    "papermill": {
     "duration": 0.031857,
     "end_time": "2023-05-05T04:40:42.907059",
     "exception": false,
     "start_time": "2023-05-05T04:40:42.875202",
     "status": "completed"
    },
    "tags": []
   },
   "outputs": [
    {
     "name": "stdout",
     "output_type": "stream",
     "text": [
      "                                                    Text         Username\n",
      "0      chatgptで遊ぶの忘れてた  \\n書類作るコード書いてみてほしいのと \\nどこまで思考整...      mochico0123\n",
      "1       alexandrovnaing prohibition of chatgpt has be...  Caput_LupinumSG\n",
      "2      schaut euch an  was  fobizz  dianaknodel alles...            ciffi\n",
      "3      bow down to chatgpt        https   t co entszi...    Vishwasrisiri\n",
      "4      profilinde vatan  türkiye falan yazan bireyler...   0xGenetikciniz\n",
      "...                                                  ...              ...\n",
      "49996   chatgpt ist ein  chatbot  der durch künstlich...     HorstKrieger\n",
      "49997   r8r ich hab mal die ai dazu befragt  chatgpt ...            werpu\n",
      "49998  5 minuti di  chatgpt e ho capito che apprende ...   marcopiccinini\n",
      "49999  portland shop uses chatgpt to tell family stor...    EuniceNyandat\n",
      "50000  ahora sueño con el día en que amazon integre u...     AmericoSD_69\n",
      "\n",
      "[50001 rows x 2 columns]\n"
     ]
    }
   ],
   "source": [
    "print(ds)"
   ]
  },
  {
   "cell_type": "code",
   "execution_count": 7,
   "id": "f3aa7a2c-6734-4495-a38e-376c229f757a",
   "metadata": {
    "papermill": {
     "duration": 0.031857,
     "end_time": "2023-05-05T04:40:42.907059",
     "exception": false,
     "start_time": "2023-05-05T04:40:42.875202",
     "status": "completed"
    },
    "tags": []
   },
   "outputs": [],
   "source": [
    "x = ds['Text']\n",
    "y = ds['Username']"
   ]
  },
  {
   "cell_type": "code",
   "execution_count": 8,
   "id": "866667d0-c168-4e46-94ec-cadb468e07f6",
   "metadata": {
    "papermill": {
     "duration": 0.031857,
     "end_time": "2023-05-05T04:40:42.907059",
     "exception": false,
     "start_time": "2023-05-05T04:40:42.875202",
     "status": "completed"
    },
    "tags": []
   },
   "outputs": [],
   "source": [
    "sia = SentimentIntensityAnalyzer()\n",
    "def find_sentiment(post):\n",
    "    try:\n",
    "        if sia.polarity_scores(post)[\"compound\"] > 0:\n",
    "            return \"Positive\"\n",
    "        elif sia.polarity_scores(post)[\"compound\"] < 0:\n",
    "            return \"Negative\"\n",
    "        else:\n",
    "            return \"Neutral\"  \n",
    "    except:\n",
    "        return \"Neutral\""
   ]
  },
  {
   "cell_type": "code",
   "execution_count": 9,
   "id": "172877bc-b0df-4712-b45c-b3fe2f98f3ce",
   "metadata": {
    "papermill": {
     "duration": 0.031857,
     "end_time": "2023-05-05T04:40:42.907059",
     "exception": false,
     "start_time": "2023-05-05T04:40:42.875202",
     "status": "completed"
    },
    "tags": []
   },
   "outputs": [],
   "source": [
    "def plot_sentiment(df, feature, title):\n",
    "    counts = df[feature].value_counts()\n",
    "    percent = counts/sum(counts)\n",
    "\n",
    "    fig, (ax1, ax2) = plt.subplots(ncols=2, figsize=(12, 5))\n",
    "    \n",
    "    colors = [\"green\", \"red\", \"blue\"]\n",
    "    counts.plot(kind='bar', ax=ax1, color=colors)\n",
    "    percent.plot(kind='bar', ax=ax2, color=colors)\n",
    "    ax1.set_ylabel(f'Counts : {title} sentiments', size=12)\n",
    "    ax2.set_ylabel(f'Percentage : {title} sentiments', size=12)\n",
    "    plt.suptitle(f\"Sentiment analysis: {title}\")\n",
    "    plt.tight_layout()\n",
    "    plt.show()"
   ]
  },
  {
   "cell_type": "code",
   "execution_count": 10,
   "id": "fefe8bb9-699b-47f5-9c44-ad3770af8df3",
   "metadata": {
    "papermill": {
     "duration": 0.031857,
     "end_time": "2023-05-05T04:40:42.907059",
     "exception": false,
     "start_time": "2023-05-05T04:40:42.875202",
     "status": "completed"
    },
    "tags": []
   },
   "outputs": [
    {
     "data": {
      "image/png": "[encoded data removed]",
      "text/plain": [
       "<Figure size 1200x500 with 2 Axes>"
      ]
     },
     "metadata": {},
     "output_type": "display_data"
    }
   ],
   "source": [
    "df['text_sentiment'] = df['Text'].apply(lambda x: find_sentiment(x))\n",
    "plot_sentiment(df, 'text_sentiment', 'Text')"
   ]
  },
  {
   "cell_type": "markdown",
   "id": "9aa6a751-685a-464a-977d-cc9bc192b3e1",
   "metadata": {
    "papermill": {
     "duration": 0.031857,
     "end_time": "2023-05-05T04:40:42.907059",
     "exception": false,
     "start_time": "2023-05-05T04:40:42.875202",
     "status": "completed"
    },
    "tags": []
   },
   "source": [
    "# Task 2"
   ]
  },
  {
   "cell_type": "code",
   "execution_count": 11,
   "id": "d77dfcac-3dcb-49be-9d82-444cd5ca075f",
   "metadata": {
    "papermill": {
     "duration": 0.031857,
     "end_time": "2023-05-05T04:40:42.907059",
     "exception": false,
     "start_time": "2023-05-05T04:40:42.875202",
     "status": "completed"
    },
    "tags": []
   },
   "outputs": [
    {
     "name": "stdout",
     "output_type": "stream",
     "text": [
      "  (0, 122041)\t0.3779644730092272\n",
      "  (0, 125649)\t0.3779644730092272\n",
      "  (0, 119613)\t0.3779644730092272\n",
      "  (0, 123990)\t0.3779644730092272\n",
      "  (0, 122251)\t0.3779644730092272\n",
      "  (0, 129061)\t0.3779644730092272\n",
      "  (0, 20290)\t0.3779644730092272\n",
      "  (1, 84517)\t0.22930232680090692\n",
      "  (1, 27301)\t0.3681262956261017\n",
      "  (1, 64904)\t0.16487300501469665\n",
      "  (1, 23031)\t0.2110021999428155\n",
      "  (1, 46199)\t0.38065692456581934\n",
      "  (1, 92560)\t0.09314909669162727\n",
      "  (1, 93611)\t0.09317593836624381\n",
      "  (1, 7486)\t0.31490574466275484\n",
      "  (1, 14426)\t0.2032977216192921\n",
      "  (1, 44768)\t0.1694713317440784\n",
      "  (1, 19673)\t0.046783820770443255\n",
      "  (1, 68977)\t0.2207965493825925\n",
      "  (1, 76170)\t0.43314950642115596\n",
      "  (1, 9231)\t0.4125115421001737\n",
      "  (2, 5121)\t0.19145855646370094\n",
      "  (2, 45424)\t0.19145855646370094\n",
      "  (2, 31345)\t0.19145855646370094\n",
      "  (2, 22964)\t0.08428604972868649\n",
      "  :\t:\n",
      "  (49999, 37164)\t0.3109479992325482\n",
      "  (49999, 88824)\t0.25715718482572786\n",
      "  (49999, 91958)\t0.2345430143872418\n",
      "  (49999, 97487)\t0.2463730061555733\n",
      "  (49999, 69652)\t0.12799794604389694\n",
      "  (49999, 22964)\t0.06281825208018331\n",
      "  (49999, 46588)\t0.0629168908023144\n",
      "  (49999, 93611)\t0.0887300086551569\n",
      "  (49999, 19673)\t0.04455151077272787\n",
      "  (50000, 49622)\t0.3816810772860212\n",
      "  (50000, 89686)\t0.3816810772860212\n",
      "  (50000, 32023)\t0.29224155737722546\n",
      "  (50000, 9756)\t0.2626313737053844\n",
      "  (50000, 57519)\t0.28689142482834534\n",
      "  (50000, 63525)\t0.27878218635608837\n",
      "  (50000, 9216)\t0.27444283899934874\n",
      "  (50000, 8203)\t0.2579299719239227\n",
      "  (50000, 33305)\t0.16838150595607893\n",
      "  (50000, 33899)\t0.29898167227567446\n",
      "  (50000, 23551)\t0.19583341834986867\n",
      "  (50000, 23873)\t0.17934238055150725\n",
      "  (50000, 78405)\t0.14526668161793221\n",
      "  (50000, 96524)\t0.1614485052227376\n",
      "  (50000, 27584)\t0.12353745764741214\n",
      "  (50000, 19673)\t0.04122479385641235\n"
     ]
    }
   ],
   "source": [
    "from sklearn.feature_extraction.text import TfidfVectorizer\n",
    "\n",
    "\n",
    "vectorizer = TfidfVectorizer()\n",
    "X = vectorizer.fit_transform(x)\n",
    "\n",
    "print(X)"
   ]
  },
  {
   "cell_type": "code",
   "execution_count": 12,
   "id": "9f93e9b1-91c2-4f85-bf3c-3603557775b5",
   "metadata": {
    "papermill": {
     "duration": 0.031857,
     "end_time": "2023-05-05T04:40:42.907059",
     "exception": false,
     "start_time": "2023-05-05T04:40:42.875202",
     "status": "completed"
    },
    "tags": []
   },
   "outputs": [
    {
     "name": "stdout",
     "output_type": "stream",
     "text": [
      "[30026  3179 21010 ... 29028  5623  1414]\n"
     ]
    }
   ],
   "source": [
    "from sklearn.preprocessing import LabelEncoder\n",
    "\n",
    "le = LabelEncoder()\n",
    "y_train = le.fit_transform(y)\n",
    "\n",
    "print(y_train)"
   ]
  },
  {
   "cell_type": "code",
   "execution_count": 13,
   "id": "3fd56694-ea86-4501-80dd-f6b40fedad97",
   "metadata": {
    "papermill": {
     "duration": 0.031857,
     "end_time": "2023-05-05T04:40:42.907059",
     "exception": false,
     "start_time": "2023-05-05T04:40:42.875202",
     "status": "completed"
    },
    "tags": []
   },
   "outputs": [
    {
     "name": "stdout",
     "output_type": "stream",
     "text": [
      "X_train shape: (40000, 133919)\n",
      "X_test shape: (10001, 133919)\n",
      "y_train shape: (40000,)\n",
      "y_test shape: (10001,)\n"
     ]
    }
   ],
   "source": [
    "from sklearn.model_selection import train_test_split\n",
    "\n",
    "\n",
    "# Split the dataset into training and testing sets\n",
    "X_train, X_test, y_train, y_test = train_test_split(X, y_train, test_size=0.2, random_state=42)\n",
    "\n",
    "# Print the shapes of the training and testing sets\n",
    "print('X_train shape:', X_train.shape)\n",
    "print('X_test shape:', X_test.shape)\n",
    "print('y_train shape:', y_train.shape)\n",
    "print('y_test shape:', y_test.shape)"
   ]
  },
  {
   "cell_type": "code",
   "execution_count": null,
   "id": "ffd4fd35-713c-46c9-9760-726c5238be23",
   "metadata": {
    "papermill": {
     "duration": 0.031857,
     "end_time": "2023-05-05T04:40:42.907059",
     "exception": false,
     "start_time": "2023-05-05T04:40:42.875202",
     "status": "completed"
    },
    "tags": []
   },
   "outputs": [],
   "source": []
  },
  {
   "cell_type": "code",
   "execution_count": null,
   "id": "1ea7371b-2ddb-44a3-ba8a-8a803fc5c43e",
   "metadata": {
    "papermill": {
     "duration": 0.031857,
     "end_time": "2023-05-05T04:40:42.907059",
     "exception": false,
     "start_time": "2023-05-05T04:40:42.875202",
     "status": "completed"
    },
    "tags": []
   },
   "outputs": [],
   "source": [
    "from sklearn.tree import DecisionTreeClassifier\n",
    "from sklearn.ensemble import RandomForestClassifier\n",
    "from sklearn.neighbors import KNeighborsClassifier\n",
    "from sklearn.naive_bayes import MultinomialNB\n",
    "from sklearn.metrics import accuracy_score, precision_score, recall_score, f1_score\n",
    "\n",
    "# Decision Tree Classifier\n",
    "dtc = RandomForestClassifier()\n",
    "dtc.fit(X_train, y_train)\n",
    "y_pred_dtc = dtc.predict(X_test)\n",
    "print('Decision Tree Classifier')\n",
    "print('Accuracy:', accuracy_score(y_test, y_pred_dtc))\n",
    "print('Precision:', precision_score(y_test, y_pred_dtc, average='weighted'))\n",
    "print('Recall:', recall_score(y_test, y_pred_dtc, average='weighted'))\n",
    "print('F1-Score:', f1_score(y_test, y_pred_dtc, average='weighted'))"
   ]
  },
  {
   "cell_type": "code",
   "execution_count": null,
   "id": "2d3b4ffe-8c6d-4160-a137-448b97106c0c",
   "metadata": {
    "papermill": {
     "duration": 0.031857,
     "end_time": "2023-05-05T04:40:42.907059",
     "exception": false,
     "start_time": "2023-05-05T04:40:42.875202",
     "status": "completed"
    },
    "tags": []
   },
   "outputs": [],
   "source": []
  },
  {
   "cell_type": "markdown",
   "id": "0e27f98d-e261-4d61-a3c1-4ce9404de81f",
   "metadata": {
    "papermill": {
     "duration": 0.031857,
     "end_time": "2023-05-05T04:40:42.907059",
     "exception": false,
     "start_time": "2023-05-05T04:40:42.875202",
     "status": "completed"
    },
    "tags": []
   },
   "source": [
    "# Task 3"
   ]
  },
  {
   "cell_type": "code",
   "execution_count": null,
   "id": "b77e2533-ff33-49a1-ba08-b3fdcec5b154",
   "metadata": {
    "papermill": {
     "duration": 0.031857,
     "end_time": "2023-05-05T04:40:42.907059",
     "exception": false,
     "start_time": "2023-05-05T04:40:42.875202",
     "status": "completed"
    },
    "tags": []
   },
   "outputs": [],
   "source": [
    "from sklearn.cluster import KMeans\n",
    "from sklearn.metrics import silhouette_score"
   ]
  },
  {
   "cell_type": "code",
   "execution_count": null,
   "id": "03f95700-74e1-4896-b4fe-281d7e01a8b4",
   "metadata": {
    "papermill": {
     "duration": 0.031857,
     "end_time": "2023-05-05T04:40:42.907059",
     "exception": false,
     "start_time": "2023-05-05T04:40:42.875202",
     "status": "completed"
    },
    "tags": []
   },
   "outputs": [],
   "source": [
    "# Define the feature set\n",
    "features = ['MentionedUsers']\n",
    "\n",
    "# Create a new dataframe with the selected features\n",
    "df_features = df[features]\n",
    "\n",
    "# Define the vectorizer and fit_transform on the text data\n",
    "vectorizer = TfidfVectorizer(stop_words='english')\n",
    "text_vectors = vectorizer.fit_transform(df_features['MentionedUsers'])\n",
    "\n",
    "# Add the text vectors to the feature dataframe\n",
    "df_features['text_vectors'] = list(text_vectors.toarray())\n",
    "\n",
    "# Cluster the tweets using K-Means clustering\n",
    "kmeans = KMeans(n_clusters=3, random_state=42)\n",
    "kmeans.fit(list(df_features['text_vectors']))\n",
    "df_features['cluster'] = kmeans.labels_\n",
    "\n",
    "# Evaluate the clustering performance using silhouette score\n",
    "silhouette_avg = silhouette_score(list(df_features['text_vectors']), kmeans.labels_)\n",
    "print('Silhouette score:', silhouette_avg)\n",
    "\n",
    "# Print the number of tweets in each cluster\n",
    "print(df_features.groupby('cluster')['Text'].count())\n",
    "\n",
    "# Print a sample of tweets in each cluster\n",
    "for i in range(3):\n",
    "    print('Cluster', i, 'sample tweets:')\n",
    "    print(df_features[df_features['cluster'] == i]['Text'].sample(5))"
   ]
  },
  {
   "cell_type": "code",
   "execution_count": null,
   "id": "27029e99-d4ab-45c4-a026-91a3981d79aa",
   "metadata": {
    "papermill": {
     "duration": 0.031857,
     "end_time": "2023-05-05T04:40:42.907059",
     "exception": false,
     "start_time": "2023-05-05T04:40:42.875202",
     "status": "completed"
    },
    "tags": []
   },
   "outputs": [],
   "source": [
    "import matplotlib.pyplot as plt\n",
    "from sklearn.decomposition import PCA\n",
    "\n",
    "# reduce feature space to 2 dimensions using PCA\n",
    "pca = PCA(n_components=2)\n",
    "X_pca = pca.fit_transform(X)\n",
    "\n",
    "# plot the clusters\n",
    "plt.scatter(X_pca[:, 0], X_pca[:, 1], c=y_pred)\n",
    "plt.title('K-Means Clustering of Tweets')\n",
    "plt.xlabel('PCA Component 1')\n",
    "plt.ylabel('PCA Component 2')\n",
    "plt.show()"
   ]
  },
  {
   "cell_type": "code",
   "execution_count": null,
   "id": "fb0f4b81-8570-4678-a9aa-bd7920a3a416",
   "metadata": {
    "papermill": {
     "duration": 0.031857,
     "end_time": "2023-05-05T04:40:42.907059",
     "exception": false,
     "start_time": "2023-05-05T04:40:42.875202",
     "status": "completed"
    },
    "tags": []
   },
   "outputs": [],
   "source": [
    "# Random Forest Classifier\n",
    "rfc = RandomForestClassifier()\n",
    "rfc.fit(X_train, y_train)\n",
    "y_pred_rfc = rfc.predict(X_test)\n",
    "print('Random Forest Classifier')\n",
    "print('Accuracy:', accuracy_score(y_test, y_pred_rfc))\n",
    "print('Precision:', precision_score(y_test, y_pred_rfc, average='weighted'))\n",
    "print('Recall:', recall_score(y_test, y_pred_rfc, average='weighted'))\n",
    "print('F1-Score:', f1_score(y_test, y_pred_rfc, average='weighted'))\n"
   ]
  },
  {
   "cell_type": "code",
   "execution_count": null,
   "id": "c315547d-8a4f-44f9-9122-ed015005f835",
   "metadata": {
    "papermill": {
     "duration": 0.031857,
     "end_time": "2023-05-05T04:40:42.907059",
     "exception": false,
     "start_time": "2023-05-05T04:40:42.875202",
     "status": "completed"
    },
    "tags": []
   },
   "outputs": [],
   "source": [
    "# Random Forest Classifier\n",
    "knc = KNeighborsClassifier()\n",
    "knc.fit(X_train, y_train)\n",
    "y_pred_knc = knc.predict(X_test)\n",
    "print('Random Forest Classifier')\n",
    "print('Accuracy:', accuracy_score(y_test, y_pred_knc))\n",
    "print('Precision:', precision_score(y_test, y_pred_knc, average='weighted'))\n",
    "print('Recall:', recall_score(y_test, y_pred_knc, average='weighted'))\n",
    "print('F1-Score:', f1_score(y_test, y_pred_knc, average='weighted'))\n"
   ]
  },
  {
   "cell_type": "code",
   "execution_count": null,
   "id": "3c2fe126-7fd7-4920-89f9-8f56a138d5b3",
   "metadata": {},
   "outputs": [],
   "source": []
  },
  {
   "cell_type": "code",
   "execution_count": null,
   "id": "feea966e-5fdb-411b-8d22-7592c087af9a",
   "metadata": {},
   "outputs": [],
   "source": []
  }
 ],
 "metadata": {
  "kernelspec": {
   "display_name": "Python 3 (ipykernel)",
   "language": "python",
   "name": "python3"
  },
  "language_info": {
   "codemirror_mode": {
    "name": "ipython",
    "version": 3
   },
   "file_extension": ".py",
   "mimetype": "text/x-python",
   "name": "python",
   "nbconvert_exporter": "python",
   "pygments_lexer": "ipython3",
   "version": "3.9.16"
  },
  "papermill": {
   "default_parameters": {},
   "duration": 62.652014,
   "end_time": "2023-05-05T04:41:30.308984",
   "environment_variables": {},
   "exception": null,
   "input_path": "__notebook__.ipynb",
   "output_path": "__notebook__.ipynb",
   "parameters": {},
   "start_time": "2023-05-05T04:40:27.656970",
   "version": "2.4.0"
  }
 },
 "nbformat": 4,
 "nbformat_minor": 5
}
